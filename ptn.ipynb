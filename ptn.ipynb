{
 "cells": [
  {
   "cell_type": "code",
   "execution_count": 10,
   "id": "0e241e78",
   "metadata": {},
   "outputs": [],
   "source": [
    "import pandas as pd\n",
    "import numpy as np\n",
    "import matplotlib.pyplot as plt\n",
    "\n",
    "data = pd.read_csv('passenger_satisfaction_data.csv')\n",
    "\n",
    "df = pd.DataFrame(data)\n",
    "\n",
    "### Preprocessing and create splits\n",
    "from sklearn.model_selection import train_test_split\n",
    "from sklearn.preprocessing import StandardScaler\n",
    "\n",
    "# drop irrelevant cols\n",
    "df = df.drop(['Unnamed: 0', 'id'], axis=1)\n",
    "\n",
    "# drop null rows\n",
    "df_nn = df.dropna(axis=0)\n",
    "df = df_nn\n",
    "\n",
    "# transform dependent variable to binary encoding\n",
    "df['satisfaction'] = df['satisfaction'].map({'neutral or dissatisfied': 0, 'satisfied': 1})\n",
    "\n",
    "# assign independent and dependent variables\n",
    "y = df['satisfaction']\n",
    "x = df.drop('satisfaction', axis=1)\n",
    "\n",
    "# Select categorical columns that need encoding\n",
    "categorical_columns = ['Customer Type', 'Type of Travel', 'Class', 'Gender']\n",
    "\n",
    "# Apply one-hot encoding using Pandas get_dummies()\n",
    "x_encoded = pd.get_dummies(x, columns=categorical_columns, dtype=int)\n",
    "\n",
    "# train test split\n",
    "X_train, X_test, y_train, y_test = train_test_split(x_encoded, y, test_size=0.4, random_state=45)\n",
    "\n",
    "# normalise via standardisation\n",
    "scaler = StandardScaler()\n",
    "\n",
    "# apply standardisation to independent features\n",
    "X_train_scaled = scaler.fit_transform(X_train)\n",
    "X_test_scaled = scaler.transform(X_test)"
   ]
  },
  {
   "cell_type": "code",
   "execution_count": 11,
   "id": "53069d35",
   "metadata": {},
   "outputs": [
    {
     "data": {
      "text/plain": [
       "0.5069022106380925"
      ]
     },
     "execution_count": 11,
     "metadata": {},
     "output_type": "execute_result"
    }
   ],
   "source": [
    "from sklearn.linear_model import Perceptron\n",
    "from sklearn.metrics import confusion_matrix, ConfusionMatrixDisplay\n",
    "\n",
    "perc = Perceptron(eta0=0.1)\n",
    "perc.fit(X_train, y_train)\n",
    "\n",
    "perc.score(X_test, y_test)"
   ]
  },
  {
   "cell_type": "code",
   "execution_count": null,
   "id": "b4f083fc",
   "metadata": {},
   "outputs": [],
   "source": []
  }
 ],
 "metadata": {
  "kernelspec": {
   "display_name": "Python 3 (ipykernel)",
   "language": "python",
   "name": "python3"
  },
  "language_info": {
   "codemirror_mode": {
    "name": "ipython",
    "version": 3
   },
   "file_extension": ".py",
   "mimetype": "text/x-python",
   "name": "python",
   "nbconvert_exporter": "python",
   "pygments_lexer": "ipython3",
   "version": "3.11.5"
  }
 },
 "nbformat": 4,
 "nbformat_minor": 5
}
