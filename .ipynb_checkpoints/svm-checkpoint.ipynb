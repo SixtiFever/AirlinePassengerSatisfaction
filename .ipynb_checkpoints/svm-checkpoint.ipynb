{
 "cells": [
  {
   "cell_type": "code",
   "execution_count": 14,
   "id": "4deae722",
   "metadata": {},
   "outputs": [],
   "source": [
    "# import numpy as np\n",
    "import pandas as pd\n",
    "import matplotlib.pyplot as plt\n",
    "\n",
    "data = pd.read_csv('passenger_satisfaction_data.csv')\n",
    "\n",
    "df = pd.DataFrame(data)\n",
    "\n",
    "### Preprocessing and create splits\n",
    "from sklearn.model_selection import train_test_split\n",
    "from sklearn.preprocessing import StandardScaler\n",
    "\n",
    "# drop irrelevant cols\n",
    "df = df.drop(['Unnamed: 0', 'id'], axis=1)\n",
    "\n",
    "# drop null rows\n",
    "df_nn = df.dropna(axis=0)\n",
    "df = df_nn\n",
    "\n",
    "# transform dependent variable to binary encoding\n",
    "df['satisfaction'] = df['satisfaction'].map({'neutral or dissatisfied': 0, 'satisfied': 1})\n",
    "\n",
    "# assign independent and dependent variables\n",
    "y = df['satisfaction']\n",
    "x = df.drop('satisfaction', axis=1)\n",
    "\n",
    "# Select categorical columns that need encoding\n",
    "categorical_columns = ['Customer Type', 'Type of Travel', 'Class', 'Gender']\n",
    "\n",
    "# Apply one-hot encoding using Pandas get_dummies()\n",
    "x_encoded = pd.get_dummies(x, columns=categorical_columns, dtype=int)\n",
    "\n",
    "# train test split\n",
    "X_train, X_test, y_train, y_test = train_test_split(x_encoded, y, test_size=0.4, random_state=45)\n",
    "\n",
    "# normalise via standardisation\n",
    "scaler = StandardScaler()\n",
    "\n",
    "# apply standardisation to independent features\n",
    "X_train_scaled = scaler.fit_transform(X_train)\n",
    "X_test_scaled = scaler.transform(X_test)"
   ]
  },
  {
   "cell_type": "code",
   "execution_count": 15,
   "id": "6b0a8c62",
   "metadata": {},
   "outputs": [],
   "source": [
    "# Import svm model\n",
    "from sklearn import svm, metrics\n",
    "\n",
    "# Create a svm classifier\n",
    "clf = svm.SVC(kernel='linear') # Linear Kernel\n",
    "\n",
    "# Train the model using the training sets\n",
    "clf.fit(X_train_scaled, y_train)\n",
    "\n",
    "# Predict the response for test dataset\n",
    "y_pred = clf.predict(X_test_scaled)"
   ]
  },
  {
   "cell_type": "code",
   "execution_count": 16,
   "id": "50f6ab96",
   "metadata": {},
   "outputs": [
    {
     "name": "stdout",
     "output_type": "stream",
     "text": [
      "Accuracy: 0.8743894198281688\n",
      "Accuracy: 0.8743894198281688\n",
      "Precision: 0.8776703607639708\n",
      "Recall: 0.8263108822092972\n",
      "ROC Score: 0.8688468868548536\n",
      "Classification Report:\n",
      "              precision    recall  f1-score   support\n",
      "\n",
      "           0       0.87      0.91      0.89     29272\n",
      "           1       0.88      0.83      0.85     22523\n",
      "\n",
      "    accuracy                           0.87     51795\n",
      "   macro avg       0.87      0.87      0.87     51795\n",
      "weighted avg       0.87      0.87      0.87     51795\n",
      "\n"
     ]
    },
    {
     "data": {
      "image/png": "[encoded data removed]",
      "text/plain": [
       "<Figure size 640x480 with 2 Axes>"
      ]
     },
     "metadata": {},
     "output_type": "display_data"
    }
   ],
   "source": [
    "### Model Evaluation\n",
    "from sklearn.metrics import confusion_matrix, ConfusionMatrixDisplay, accuracy_score, precision_score, recall_score, classification_report, roc_auc_score\n",
    "# Model Accuracy: how often is the classifier correct?\n",
    "print(\"Accuracy:\",metrics.accuracy_score(y_test, y_pred))\n",
    "\n",
    "# Model report\n",
    "accuracy = accuracy_score(y_test, y_pred)\n",
    "precision = precision_score(y_test, y_pred)\n",
    "recall = recall_score(y_test, y_pred)\n",
    "confusion_mat = confusion_matrix(y_test, y_pred)\n",
    "classification_rep = classification_report(y_test, y_pred)\n",
    "auc = roc_auc_score(y_test, y_pred)\n",
    "print(f\"Accuracy: {accuracy}\")\n",
    "print(f\"Precision: {precision}\")\n",
    "print(f\"Recall: {recall}\")\n",
    "print(f\"ROC Score: {auc}\")\n",
    "print(f\"Classification Report:\\n{classification_rep}\")\n",
    "\n",
    "# confusion matrix\n",
    "cm = confusion_matrix(y_test, y_pred)\n",
    "cm_display = ConfusionMatrixDisplay(cm).plot()"
   ]
  },
  {
   "cell_type": "code",
   "execution_count": 17,
   "id": "ce8f8da4",
   "metadata": {},
   "outputs": [
    {
     "name": "stdout",
     "output_type": "stream",
     "text": [
      "(0.5402628030891514, 0.4555237304561506, 0.42433012976268847, 0.26659460543780167, 0.2506999605032998, 0.2492974144760749, 0.20100881925062586, 0.18886946416928518, 0.14300464891504006, 0.0773843249479691, 0.07365992406867061, 0.06744117241148573, 0.0560569831918607, 0.022999286481249825, -0.009806044489091392, -0.012869616730694977, -0.019660758615708485, -0.02028195228809082, -0.0767652756649444, -0.0976444725839043, -0.10369229016717219, -0.1345372512511327, -0.17043164120670262, -0.1790004365482991, -0.26659460543337765, -0.42433012976247764)\n"
     ]
    }
   ],
   "source": [
    "### Feature importance\n",
    "\n",
    "# create features array\n",
    "features = []\n",
    "for feature in x_encoded:\n",
    "    if feature == 'satisfaction': continue\n",
    "    features.append(feature)\n",
    "\n",
    "# remove satisfaction column\n",
    "features = features[0:-1]\n",
    "\n",
    "# get feature coefficients\n",
    "feature_importance = clf.coef_[0]\n",
    "\n",
    "# # Match features to importance scores\n",
    "feature_importance_dict = dict(zip(features, feature_importance))\n",
    "sorted_features = sorted(feature_importance_dict.items(), key=lambda x: x[1], reverse=True)\n",
    "\n",
    "# Extract feature names and importance scores from sorted_features\n",
    "features, importance = zip(*sorted_features)\n",
    "\n",
    "print(importance)\n",
    "\n",
    "\n",
    "# Feature importance bar chart\n",
    "plt.figure(figsize=(10, 6))\n",
    "plt.barh(range(len(importance)), importance, align='center')\n",
    "plt.yticks(range(len(features)), features)\n",
    "plt.xlabel('Feature Importance')\n",
    "plt.title('Feature Importance Scores')\n",
    "plt.gca().invert_yaxis()  # Invert y-axis to display most important features at the top\n",
    "plt.show()"
   ]
  },
  {
   "cell_type": "code",
   "execution_count": null,
   "id": "a7c93ca1",
   "metadata": {},
   "outputs": [],
   "source": []
  }
 ],
 "metadata": {
  "kernelspec": {
   "display_name": "Python 3 (ipykernel)",
   "language": "python",
   "name": "python3"
  },
  "language_info": {
   "codemirror_mode": {
    "name": "ipython",
    "version": 3
   },
   "file_extension": ".py",
   "mimetype": "text/x-python",
   "name": "python",
   "nbconvert_exporter": "python",
   "pygments_lexer": "ipython3",
   "version": "3.11.5"
  }
 },
 "nbformat": 4,
 "nbformat_minor": 5
}
