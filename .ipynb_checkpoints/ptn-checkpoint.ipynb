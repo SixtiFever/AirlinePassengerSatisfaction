{
 "cells": [
  {
   "cell_type": "code",
   "execution_count": 8,
   "id": "6877b8a3",
   "metadata": {},
   "outputs": [],
   "source": [
    "import pandas as pd\n",
    "import numpy as np\n",
    "import matplotlib.pyplot as plt\n",
    "\n",
    "data = pd.read_csv('passenger_satisfaction_data.csv')\n",
    "\n",
    "df = pd.DataFrame(data)\n",
    "\n",
    "### Preprocessing and create splits\n",
    "from sklearn.model_selection import train_test_split\n",
    "from sklearn.preprocessing import StandardScaler\n",
    "\n",
    "# drop irrelevant cols\n",
    "df = df.drop(['Unnamed: 0', 'id'], axis=1)\n",
    "\n",
    "# drop null rows\n",
    "df_nn = df.dropna(axis=0)\n",
    "df = df_nn\n",
    "\n",
    "# transform dependent variable to binary encoding\n",
    "df['satisfaction'] = df['satisfaction'].map({'neutral or dissatisfied': 0, 'satisfied': 1})\n",
    "\n",
    "# assign independent and dependent variables\n",
    "y = df['satisfaction']\n",
    "x = df.drop('satisfaction', axis=1)\n",
    "\n",
    "# Select categorical columns that need encoding\n",
    "categorical_columns = ['Customer Type', 'Type of Travel', 'Class', 'Gender']\n",
    "\n",
    "# Apply one-hot encoding using Pandas get_dummies()\n",
    "x_encoded = pd.get_dummies(x, columns=categorical_columns, dtype=int)\n",
    "\n",
    "# train test split\n",
    "X_train, X_test, y_train, y_test = train_test_split(x_encoded, y, test_size=0.4, random_state=45)\n",
    "\n",
    "# normalise via standardisation\n",
    "scaler = StandardScaler()\n",
    "\n",
    "# apply standardisation to independent features\n",
    "X_train_scaled = scaler.fit_transform(X_train)\n",
    "X_test_scaled = scaler.transform(X_test)"
   ]
  },
  {
   "cell_type": "code",
   "execution_count": 9,
   "id": "32318c26",
   "metadata": {},
   "outputs": [
    {
     "ename": "ImportError",
     "evalue": "cannot import name 'plot_confusion_matrix' from 'sklearn.metrics' (/Users/JDSwift/anaconda3/lib/python3.11/site-packages/sklearn/metrics/__init__.py)",
     "output_type": "error",
     "traceback": [
      "\u001b[0;31m---------------------------------------------------------------------------\u001b[0m",
      "\u001b[0;31mImportError\u001b[0m                               Traceback (most recent call last)",
      "Cell \u001b[0;32mIn[9], line 2\u001b[0m\n\u001b[1;32m      1\u001b[0m \u001b[38;5;28;01mfrom\u001b[39;00m \u001b[38;5;21;01msklearn\u001b[39;00m\u001b[38;5;21;01m.\u001b[39;00m\u001b[38;5;21;01mlinear_model\u001b[39;00m \u001b[38;5;28;01mimport\u001b[39;00m Perceptron\n\u001b[0;32m----> 2\u001b[0m \u001b[38;5;28;01mfrom\u001b[39;00m \u001b[38;5;21;01msklearn\u001b[39;00m\u001b[38;5;21;01m.\u001b[39;00m\u001b[38;5;21;01mmetrics\u001b[39;00m \u001b[38;5;28;01mimport\u001b[39;00m confusion_matrix, ConfusionMatrixDisplay, plot_confusion_matrix\n\u001b[1;32m      4\u001b[0m perc \u001b[38;5;241m=\u001b[39m Perceptron(eta0\u001b[38;5;241m=\u001b[39m\u001b[38;5;241m0.1\u001b[39m)\n\u001b[1;32m      5\u001b[0m perc\u001b[38;5;241m.\u001b[39mfit(X_train, y_train)\n",
      "\u001b[0;31mImportError\u001b[0m: cannot import name 'plot_confusion_matrix' from 'sklearn.metrics' (/Users/JDSwift/anaconda3/lib/python3.11/site-packages/sklearn/metrics/__init__.py)"
     ]
    }
   ],
   "source": [
    "from sklearn.linear_model import Perceptron\n",
    "from sklearn.metrics import confusion_matrix, ConfusionMatrixDisplay\n",
    "\n",
    "perc = Perceptron(eta0=0.1)\n",
    "perc.fit(X_train, y_train)\n",
    "\n",
    "perc.score(X_test, y_test)"
   ]
  },
  {
   "cell_type": "code",
   "execution_count": null,
   "id": "bfa9a4b4",
   "metadata": {},
   "outputs": [],
   "source": []
  }
 ],
 "metadata": {
  "kernelspec": {
   "display_name": "Python 3 (ipykernel)",
   "language": "python",
   "name": "python3"
  },
  "language_info": {
   "codemirror_mode": {
    "name": "ipython",
    "version": 3
   },
   "file_extension": ".py",
   "mimetype": "text/x-python",
   "name": "python",
   "nbconvert_exporter": "python",
   "pygments_lexer": "ipython3",
   "version": "3.11.5"
  }
 },
 "nbformat": 4,
 "nbformat_minor": 5
}
